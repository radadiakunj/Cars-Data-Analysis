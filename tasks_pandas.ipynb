{
 "cells": [
  {
   "cell_type": "markdown",
   "metadata": {},
   "source": [
    "**Task 1 - Create a dataset with 10 rows and 4 columns, where one of the columns must be a salary column**"
   ]
  },
  {
   "cell_type": "code",
   "execution_count": 12,
   "metadata": {},
   "outputs": [
    {
     "name": "stdout",
     "output_type": "stream",
     "text": [
      "   ID   Name  Age  Salary\n",
      "0   1   John   32    5000\n",
      "1   2  Sarah   28    6000\n",
      "2   3  David   36    7000\n",
      "3   4  Emily   31    5500\n",
      "4   5  James   29    6500\n",
      "5   6  Linda   34    7500\n",
      "6   7  Peter   27    4800\n",
      "7   8  Alice   30    5200\n",
      "8   9   Mark   33    6800\n",
      "9  10  Laura   26    5900\n"
     ]
    }
   ],
   "source": [
    "import pandas as pd\n",
    "\n",
    "data = {\n",
    "    'ID': [1, 2, 3, 4, 5, 6, 7, 8, 9, 10],\n",
    "    'Name': ['John', 'Sarah', 'David', 'Emily', 'James', 'Linda', 'Peter', 'Alice', 'Mark', 'Laura'],\n",
    "    'Age': [32, 28, 36, 31, 29, 34, 27, 30, 33, 26],\n",
    "    'Salary': [5000, 6000, 7000, 5500, 6500, 7500, 4800, 5200, 6800, 5900] \n",
    "}\n",
    "\n",
    "df = pd.DataFrame(data)\n",
    "\n",
    "print(df)"
   ]
  },
  {
   "cell_type": "markdown",
   "metadata": {},
   "source": [
    "**Task 2 - Calculate the total Survived according Sex column**"
   ]
  },
  {
   "cell_type": "code",
   "execution_count": 28,
   "metadata": {},
   "outputs": [
    {
     "name": "stdout",
     "output_type": "stream",
     "text": [
      "   ID   Name  Age  Salary Sex  Survived\n",
      "0   1   John   32    5000   M         0\n",
      "1   2  Sarah   28    6000   F         1\n",
      "2   3  David   36    7000   M         1\n",
      "3   4  Emily   31    5500   F         0\n",
      "4   5  James   29    6500   M         1\n",
      "5   6  Linda   34    7500   F         1\n",
      "6   7  Peter   27    4800   M         0\n",
      "7   8  Alice   30    5200   F         0\n",
      "8   9   Mark   33    6800   M         1\n",
      "9  10  Laura   26    5900   F         0\n"
     ]
    }
   ],
   "source": [
    "import pandas as pd\n",
    "\n",
    "data = {\n",
    "    'ID': [1, 2, 3, 4, 5, 6, 7, 8, 9, 10],\n",
    "    'Name': ['John', 'Sarah', 'David', 'Emily', 'James', 'Linda', 'Peter', 'Alice', 'Mark', 'Laura'],\n",
    "    'Age': [32, 28, 36, 31, 29, 34, 27, 30, 33, 26],\n",
    "    'Salary': [5000, 6000, 7000, 5500, 6500, 7500, 4800, 5200, 6800, 5900]\n",
    "}\n",
    "\n",
    "df = pd.DataFrame(data)\n",
    "\n",
    "# Adding 'Sex' column to the existing DataFrame\n",
    "df['Sex'] = ['M', 'F', 'M', 'F', 'M', 'F', 'M', 'F', 'M', 'F']\n",
    "\n",
    "# Adding 'Survived' column to the existing DataFrame\n",
    "df['Survived'] = [0, 1, 1, 0, 1, 1, 0, 0, 1, 0]\n",
    "\n",
    "print(df)"
   ]
  },
  {
   "cell_type": "code",
   "execution_count": 11,
   "metadata": {},
   "outputs": [
    {
     "data": {
      "text/plain": [
       "Sex  Survived\n",
       "F    0           3\n",
       "     1           2\n",
       "M    0           2\n",
       "     1           3\n",
       "Name: Survived, dtype: int64"
      ]
     },
     "execution_count": 11,
     "metadata": {},
     "output_type": "execute_result"
    }
   ],
   "source": [
    "df.groupby(['Sex', 'Survived'])['Survived'].count()"
   ]
  },
  {
   "cell_type": "markdown",
   "metadata": {},
   "source": [
    "**Task 3 - Find the average salary for every employee according to task1**"
   ]
  },
  {
   "cell_type": "code",
   "execution_count": 16,
   "metadata": {},
   "outputs": [
    {
     "name": "stdout",
     "output_type": "stream",
     "text": [
      "6020.0\n"
     ]
    }
   ],
   "source": [
    "average_salary = df['Salary'].mean()\n",
    "\n",
    "print(average_salary)"
   ]
  },
  {
   "cell_type": "markdown",
   "metadata": {},
   "source": [
    "**Task 4 - Check the data types of each column in the DataFrame**"
   ]
  },
  {
   "cell_type": "code",
   "execution_count": 29,
   "metadata": {},
   "outputs": [
    {
     "name": "stdout",
     "output_type": "stream",
     "text": [
      "ID           int64\n",
      "Name        object\n",
      "Age          int64\n",
      "Salary       int64\n",
      "Sex         object\n",
      "Survived     int64\n",
      "dtype: object\n"
     ]
    }
   ],
   "source": [
    "## Adding new datatype checked \"Sex\" ,\"Servived\"\n",
    "data_types = df.dtypes\n",
    "\n",
    "print(data_types)"
   ]
  },
  {
   "cell_type": "code",
   "execution_count": null,
   "metadata": {},
   "outputs": [],
   "source": []
  }
 ],
 "metadata": {
  "kernelspec": {
   "display_name": "Python 3",
   "language": "python",
   "name": "python3"
  },
  "language_info": {
   "codemirror_mode": {
    "name": "ipython",
    "version": 3
   },
   "file_extension": ".py",
   "mimetype": "text/x-python",
   "name": "python",
   "nbconvert_exporter": "python",
   "pygments_lexer": "ipython3",
   "version": "3.10.11"
  },
  "orig_nbformat": 4
 },
 "nbformat": 4,
 "nbformat_minor": 2
}
