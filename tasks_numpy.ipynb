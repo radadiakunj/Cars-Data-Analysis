{
 "cells": [
  {
   "cell_type": "markdown",
   "metadata": {},
   "source": [
    "**Task 1 :- Generating random numbers using Numpy**"
   ]
  },
  {
   "cell_type": "code",
   "execution_count": 1,
   "metadata": {},
   "outputs": [
    {
     "name": "stdout",
     "output_type": "stream",
     "text": [
      "0.8125371553230609\n",
      "[0.11999142 0.40782836 0.27435363 0.38806786 0.08980811]\n",
      "[[0.07799726 0.80570382]\n",
      " [0.7394506  0.78105803]\n",
      " [0.93897033 0.52987933]]\n",
      "5\n",
      "[9 6 9 5 5]\n"
     ]
    }
   ],
   "source": [
    "import numpy as np\n",
    "ran_no = np.random.rand()\n",
    "print(ran_no)\n",
    "ran_arr = np.random.rand(5)\n",
    "print(ran_arr)\n",
    "ran_2D_arr = np.random.rand(3,2)\n",
    "print(ran_2D_arr)\n",
    "ran_int = np.random.randint(1,10)\n",
    "print(ran_int)\n",
    "ran_int_arr = np.random.randint(1, 10, size=5)\n",
    "print(ran_int_arr)"
   ]
  },
  {
   "cell_type": "markdown",
   "metadata": {},
   "source": [
    "**Task 2 :- Generate array and slicing a Numpy array**"
   ]
  },
  {
   "cell_type": "code",
   "execution_count": 2,
   "metadata": {},
   "outputs": [
    {
     "name": "stdout",
     "output_type": "stream",
     "text": [
      "[ 1  2  3  4  5  6  7  8  9 10 11]\n",
      "[3 4 5 6]\n",
      "[1 2 3 4 5]\n",
      "[ 5  6  7  8  9 10 11]\n",
      "[3 5 7 9]\n"
     ]
    }
   ],
   "source": [
    "import numpy as np\n",
    "arr = np.array([1,2,3,4,5,6,7,8,9,10,11])\n",
    "print(arr)\n",
    "\n",
    "slice_arr = arr[2:6]\n",
    "print(slice_arr)\n",
    "\n",
    "slice_arr2 = arr[:5]\n",
    "print(slice_arr2)\n",
    "\n",
    "slice_arr3 = arr[4:]\n",
    "print(slice_arr3)\n",
    "\n",
    "slice_arr4 = arr[2:9:2]\n",
    "print(slice_arr4)"
   ]
  },
  {
   "cell_type": "markdown",
   "metadata": {},
   "source": [
    "**Task 3 :- Concatenating two Numpy arrays**"
   ]
  },
  {
   "cell_type": "code",
   "execution_count": 3,
   "metadata": {},
   "outputs": [
    {
     "name": "stdout",
     "output_type": "stream",
     "text": [
      "[1 2 3 7 8 9]\n"
     ]
    }
   ],
   "source": [
    "import numpy as np\n",
    "\n",
    "arr1 = np.array([1, 2, 3])\n",
    "arr2 = np.array([7, 8, 9])\n",
    "\n",
    "concatinate_arr = np.concatenate((arr1 , arr2))\n",
    "print(concatinate_arr)"
   ]
  },
  {
   "cell_type": "markdown",
   "metadata": {},
   "source": [
    "**Task 4 :- Sorting a Numpy array**"
   ]
  },
  {
   "cell_type": "code",
   "execution_count": 8,
   "metadata": {},
   "outputs": [
    {
     "name": "stdout",
     "output_type": "stream",
     "text": [
      "[1 2 3 4 5]\n",
      "[5 4 3 2 1]\n"
     ]
    }
   ],
   "source": [
    "import numpy as np \n",
    "arr = np.array([3, 1, 5, 2, 4])\n",
    "\n",
    "sorted_arr = np.sort(arr)\n",
    "print(sorted_arr)\n",
    "\n",
    "sorted_arr_desc = np.sort(arr)[::-1]\n",
    "print(sorted_arr_desc)"
   ]
  }
 ],
 "metadata": {
  "kernelspec": {
   "display_name": "Python 3",
   "language": "python",
   "name": "python3"
  },
  "language_info": {
   "codemirror_mode": {
    "name": "ipython",
    "version": 3
   },
   "file_extension": ".py",
   "mimetype": "text/x-python",
   "name": "python",
   "nbconvert_exporter": "python",
   "pygments_lexer": "ipython3",
   "version": "3.10.11"
  },
  "orig_nbformat": 4
 },
 "nbformat": 4,
 "nbformat_minor": 2
}
